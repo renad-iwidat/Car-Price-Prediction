{
 "cells": [
  {
   "cell_type": "code",
   "execution_count": 1,
   "metadata": {},
   "outputs": [],
   "source": [
    "import pandas as pd\n",
    "# Read the CSV file into a pandas DataFrame\n",
    "df = pd.read_csv(\"./handling_data.csv\")"
   ]
  },
  {
   "cell_type": "code",
   "execution_count": 2,
   "metadata": {},
   "outputs": [
    {
     "name": "stdout",
     "output_type": "stream",
     "text": [
      " * Serving Flask app '__main__'\n",
      " * Debug mode: off\n"
     ]
    },
    {
     "name": "stderr",
     "output_type": "stream",
     "text": [
      "WARNING: This is a development server. Do not use it in a production deployment. Use a production WSGI server instead.\n",
      " * Running on http://127.0.0.1:5000\n",
      "Press CTRL+C to quit\n",
      "127.0.0.1 - - [09/Dec/2023 02:25:27] \"GET / HTTP/1.1\" 404 -\n",
      "127.0.0.1 - - [09/Dec/2023 02:25:28] \"GET /favicon.ico HTTP/1.1\" 404 -\n",
      "127.0.0.1 - - [09/Dec/2023 02:25:30] \"GET / HTTP/1.1\" 404 -\n",
      "c:\\Users\\ktech\\AppData\\Local\\Programs\\Python\\Python311\\Lib\\site-packages\\sklearn\\base.py:465: UserWarning: X does not have valid feature names, but SimpleImputer was fitted with feature names\n",
      "  warnings.warn(\n",
      "c:\\Users\\ktech\\AppData\\Local\\Programs\\Python\\Python311\\Lib\\site-packages\\sklearn\\base.py:465: UserWarning: X does not have valid feature names, but KNeighborsClassifier was fitted with feature names\n",
      "  warnings.warn(\n",
      "127.0.0.1 - - [09/Dec/2023 02:26:22] \"POST /predict HTTP/1.1\" 200 -\n"
     ]
    }
   ],
   "source": [
    "from flask import Flask, request, jsonify\n",
    "import pandas as pd\n",
    "import numpy as np\n",
    "from sklearn.neighbors import KNeighborsClassifier\n",
    "from sklearn.impute import SimpleImputer\n",
    "from sklearn.model_selection import train_test_split\n",
    "\n",
    "app = Flask(__name__)\n",
    "\n",
    "X = df.drop('price', axis=1)\n",
    "y = df['price']\n",
    "\n",
    "X_train, X_test, y_train, y_test = train_test_split(X, y, test_size=0.2, random_state=42)\n",
    "\n",
    "imputer = SimpleImputer(strategy='mean')  # You can adjust the imputation strategy as needed\n",
    "knn_model = KNeighborsClassifier(n_neighbors=1)  # You can adjust the number of neighbors (k) as needed\n",
    "\n",
    "# Impute missing values in the training data\n",
    "X_train_imputed = pd.DataFrame(imputer.fit_transform(X_train), columns=X_train.columns)\n",
    "knn_model.fit(X_train_imputed, y_train)\n",
    "\n",
    "@app.route('/predict', methods=['POST'])\n",
    "def predict():\n",
    "    try:\n",
    "        if request.headers['Content-Type'] == 'application/json':\n",
    "            data = request.get_json(force=True)\n",
    "\n",
    "            if 'features' in data and isinstance(data['features'], dict):\n",
    "                features_dict = data['features']\n",
    "\n",
    "                # Order the features based on the training data columns\n",
    "                features_ordered = [features_dict.get(feature, np.nan) for feature in X_train.columns]\n",
    "                features_df = pd.DataFrame([features_ordered])\n",
    "\n",
    "                # Impute missing values in the input data\n",
    "                features_df_imputed = pd.DataFrame(imputer.transform(features_df), columns=features_df.columns)\n",
    "\n",
    "                # Use the kNN model to make predictions\n",
    "                prediction = knn_model.predict(features_df_imputed)\n",
    "\n",
    "                return jsonify({'prediction': prediction.tolist()})\n",
    "            else:\n",
    "                return jsonify({'error': 'Invalid or missing \"features\" data in the request'}), 400\n",
    "        else:\n",
    "            return jsonify({'error': 'Invalid content type. Use application/json'}), 415\n",
    "    except Exception as e:\n",
    "        print(f\"An error occurred: {str(e)}\")\n",
    "        return jsonify({'error': f'An internal server error occurred: {str(e)}'}), 500\n",
    "\n",
    "if __name__ == '__main__':\n",
    "    app.run(port=5000)"
   ]
  }
 ],
 "metadata": {
  "kernelspec": {
   "display_name": "Python 3",
   "language": "python",
   "name": "python3"
  },
  "language_info": {
   "codemirror_mode": {
    "name": "ipython",
    "version": 3
   },
   "file_extension": ".py",
   "mimetype": "text/x-python",
   "name": "python",
   "nbconvert_exporter": "python",
   "pygments_lexer": "ipython3",
   "version": "3.11.5"
  }
 },
 "nbformat": 4,
 "nbformat_minor": 2
}
